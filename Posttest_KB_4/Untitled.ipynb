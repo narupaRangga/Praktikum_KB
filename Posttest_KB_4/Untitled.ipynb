{
 "cells": [
  {
   "cell_type": "markdown",
   "id": "20e5ef90-b954-4994-8a93-e2b18844c90f",
   "metadata": {},
   "source": [
    "# POSTTEST 4\n",
    "### Nama: Narupa Rangga Goroguta\n",
    "### NIM : 2209106004\n",
    "### Kelas: A1 22 Kecerdasan Buatan"
   ]
  },
  {
   "cell_type": "code",
   "execution_count": 1,
   "id": "630fe7bf-ca9f-48c6-8216-81e275c7a221",
   "metadata": {},
   "outputs": [],
   "source": [
    "from sklearn.impute import SimpleImputer\n",
    "import numpy as np\n",
    "import pandas as pd"
   ]
  },
  {
   "cell_type": "markdown",
   "id": "02db87ed-db95-427e-97e9-1c32f932e18a",
   "metadata": {},
   "source": [
    "## data sebelum manipulasi\n",
    "### tidak ada null namun memiliki 12 data yang terduplikat"
   ]
  },
  {
   "cell_type": "code",
   "execution_count": 2,
   "id": "d5f697f0-876c-4f3c-abfc-7b7ed1bdabd0",
   "metadata": {},
   "outputs": [
    {
     "data": {
      "text/html": [
       "<div>\n",
       "<style scoped>\n",
       "    .dataframe tbody tr th:only-of-type {\n",
       "        vertical-align: middle;\n",
       "    }\n",
       "\n",
       "    .dataframe tbody tr th {\n",
       "        vertical-align: top;\n",
       "    }\n",
       "\n",
       "    .dataframe thead th {\n",
       "        text-align: right;\n",
       "    }\n",
       "</style>\n",
       "<table border=\"1\" class=\"dataframe\">\n",
       "  <thead>\n",
       "    <tr style=\"text-align: right;\">\n",
       "      <th></th>\n",
       "      <th>age</th>\n",
       "      <th>workclass</th>\n",
       "      <th>fnlwgt</th>\n",
       "      <th>education</th>\n",
       "      <th>education.num</th>\n",
       "      <th>marital.status</th>\n",
       "      <th>occupation</th>\n",
       "      <th>relationship</th>\n",
       "      <th>race</th>\n",
       "      <th>sex</th>\n",
       "      <th>capital.gain</th>\n",
       "      <th>capital.loss</th>\n",
       "      <th>hours.per.week</th>\n",
       "      <th>native.country</th>\n",
       "      <th>income</th>\n",
       "    </tr>\n",
       "  </thead>\n",
       "  <tbody>\n",
       "    <tr>\n",
       "      <th>0</th>\n",
       "      <td>40</td>\n",
       "      <td>Self-emp-not-inc</td>\n",
       "      <td>223881</td>\n",
       "      <td>Prof-school</td>\n",
       "      <td>15.0</td>\n",
       "      <td>Married-civ-spouse</td>\n",
       "      <td>Prof-specialty</td>\n",
       "      <td>Husband</td>\n",
       "      <td>White</td>\n",
       "      <td>Male</td>\n",
       "      <td>99999</td>\n",
       "      <td>0</td>\n",
       "      <td>70</td>\n",
       "      <td>United-States</td>\n",
       "      <td>&gt;50K</td>\n",
       "    </tr>\n",
       "    <tr>\n",
       "      <th>1</th>\n",
       "      <td>30</td>\n",
       "      <td>Private</td>\n",
       "      <td>149118</td>\n",
       "      <td>HS-grad</td>\n",
       "      <td>9.0</td>\n",
       "      <td>Divorced</td>\n",
       "      <td>Craft-repair</td>\n",
       "      <td>Not-in-family</td>\n",
       "      <td>White</td>\n",
       "      <td>Female</td>\n",
       "      <td>0</td>\n",
       "      <td>0</td>\n",
       "      <td>40</td>\n",
       "      <td>United-States</td>\n",
       "      <td>&lt;=50K</td>\n",
       "    </tr>\n",
       "    <tr>\n",
       "      <th>2</th>\n",
       "      <td>46</td>\n",
       "      <td>Private</td>\n",
       "      <td>109209</td>\n",
       "      <td>Some-college</td>\n",
       "      <td>NaN</td>\n",
       "      <td>Married-civ-spouse</td>\n",
       "      <td>Adm-clerical</td>\n",
       "      <td>Husband</td>\n",
       "      <td>White</td>\n",
       "      <td>Male</td>\n",
       "      <td>0</td>\n",
       "      <td>0</td>\n",
       "      <td>40</td>\n",
       "      <td>United-States</td>\n",
       "      <td>&gt;50K</td>\n",
       "    </tr>\n",
       "    <tr>\n",
       "      <th>3</th>\n",
       "      <td>32</td>\n",
       "      <td>Private</td>\n",
       "      <td>229566</td>\n",
       "      <td>Assoc-voc</td>\n",
       "      <td>11.0</td>\n",
       "      <td>Married-civ-spouse</td>\n",
       "      <td>Other-service</td>\n",
       "      <td>Husband</td>\n",
       "      <td>White</td>\n",
       "      <td>Male</td>\n",
       "      <td>0</td>\n",
       "      <td>0</td>\n",
       "      <td>60</td>\n",
       "      <td>United-States</td>\n",
       "      <td>&gt;50K</td>\n",
       "    </tr>\n",
       "    <tr>\n",
       "      <th>4</th>\n",
       "      <td>54</td>\n",
       "      <td>?</td>\n",
       "      <td>148657</td>\n",
       "      <td>Preschool</td>\n",
       "      <td>1.0</td>\n",
       "      <td>Married-civ-spouse</td>\n",
       "      <td>?</td>\n",
       "      <td>Wife</td>\n",
       "      <td>White</td>\n",
       "      <td>Female</td>\n",
       "      <td>0</td>\n",
       "      <td>0</td>\n",
       "      <td>40</td>\n",
       "      <td>Mexico</td>\n",
       "      <td>&lt;=50K</td>\n",
       "    </tr>\n",
       "  </tbody>\n",
       "</table>\n",
       "</div>"
      ],
      "text/plain": [
       "   age         workclass  fnlwgt     education  education.num  \\\n",
       "0   40  Self-emp-not-inc  223881   Prof-school           15.0   \n",
       "1   30           Private  149118       HS-grad            9.0   \n",
       "2   46           Private  109209  Some-college            NaN   \n",
       "3   32           Private  229566     Assoc-voc           11.0   \n",
       "4   54                 ?  148657     Preschool            1.0   \n",
       "\n",
       "       marital.status      occupation   relationship   race     sex  \\\n",
       "0  Married-civ-spouse  Prof-specialty        Husband  White    Male   \n",
       "1            Divorced    Craft-repair  Not-in-family  White  Female   \n",
       "2  Married-civ-spouse    Adm-clerical        Husband  White    Male   \n",
       "3  Married-civ-spouse   Other-service        Husband  White    Male   \n",
       "4  Married-civ-spouse               ?           Wife  White  Female   \n",
       "\n",
       "   capital.gain  capital.loss  hours.per.week native.country income  \n",
       "0         99999             0              70  United-States   >50K  \n",
       "1             0             0              40  United-States  <=50K  \n",
       "2             0             0              40  United-States   >50K  \n",
       "3             0             0              60  United-States   >50K  \n",
       "4             0             0              40         Mexico  <=50K  "
      ]
     },
     "execution_count": 2,
     "metadata": {},
     "output_type": "execute_result"
    }
   ],
   "source": [
    "df = pd.read_csv('income.csv')\n",
    "df.head()"
   ]
  },
  {
   "cell_type": "markdown",
   "id": "3a9fc97f-c671-4c8a-a215-aafc66c92d20",
   "metadata": {},
   "source": [
    "### namun disini sudah saya jadikan null beberapa data"
   ]
  },
  {
   "cell_type": "code",
   "execution_count": 3,
   "id": "4afb6f81-3ca9-4124-b2af-f57cd9d1fd8d",
   "metadata": {},
   "outputs": [
    {
     "data": {
      "text/plain": [
       "age               0\n",
       "workclass         0\n",
       "fnlwgt            0\n",
       "education         0\n",
       "education.num     5\n",
       "marital.status    0\n",
       "occupation        0\n",
       "relationship      0\n",
       "race              0\n",
       "sex               0\n",
       "capital.gain      0\n",
       "capital.loss      0\n",
       "hours.per.week    0\n",
       "native.country    0\n",
       "income            0\n",
       "dtype: int64"
      ]
     },
     "execution_count": 3,
     "metadata": {},
     "output_type": "execute_result"
    }
   ],
   "source": [
    "df.isna().sum()"
   ]
  },
  {
   "cell_type": "code",
   "execution_count": 4,
   "id": "6e31cd8a-5f67-400a-aaf4-04d2fbaac1d8",
   "metadata": {},
   "outputs": [
    {
     "data": {
      "text/plain": [
       "12"
      ]
     },
     "execution_count": 4,
     "metadata": {},
     "output_type": "execute_result"
    }
   ],
   "source": [
    "df.duplicated().sum()"
   ]
  },
  {
   "cell_type": "markdown",
   "id": "a484290e-2cb2-450e-817c-504caa19a0c5",
   "metadata": {},
   "source": [
    "# Data Manipulasi"
   ]
  },
  {
   "cell_type": "code",
   "execution_count": 5,
   "id": "a792da1c-cfca-4bf7-afa4-31564472d88d",
   "metadata": {},
   "outputs": [
    {
     "data": {
      "text/html": [
       "<div>\n",
       "<style scoped>\n",
       "    .dataframe tbody tr th:only-of-type {\n",
       "        vertical-align: middle;\n",
       "    }\n",
       "\n",
       "    .dataframe tbody tr th {\n",
       "        vertical-align: top;\n",
       "    }\n",
       "\n",
       "    .dataframe thead th {\n",
       "        text-align: right;\n",
       "    }\n",
       "</style>\n",
       "<table border=\"1\" class=\"dataframe\">\n",
       "  <thead>\n",
       "    <tr style=\"text-align: right;\">\n",
       "      <th></th>\n",
       "      <th>age</th>\n",
       "      <th>workclass</th>\n",
       "      <th>fnlwgt</th>\n",
       "      <th>education</th>\n",
       "      <th>education.num</th>\n",
       "      <th>marital.status</th>\n",
       "      <th>occupation</th>\n",
       "      <th>relationship</th>\n",
       "      <th>race</th>\n",
       "      <th>sex</th>\n",
       "      <th>capital.gain</th>\n",
       "      <th>capital.loss</th>\n",
       "      <th>hours.per.week</th>\n",
       "      <th>native.country</th>\n",
       "      <th>income</th>\n",
       "    </tr>\n",
       "  </thead>\n",
       "  <tbody>\n",
       "    <tr>\n",
       "      <th>0</th>\n",
       "      <td>40</td>\n",
       "      <td>Self-emp-not-inc</td>\n",
       "      <td>223881</td>\n",
       "      <td>Prof-school</td>\n",
       "      <td>15.0</td>\n",
       "      <td>Married-civ-spouse</td>\n",
       "      <td>Prof-specialty</td>\n",
       "      <td>Husband</td>\n",
       "      <td>White</td>\n",
       "      <td>Male</td>\n",
       "      <td>99999</td>\n",
       "      <td>0</td>\n",
       "      <td>70</td>\n",
       "      <td>United-States</td>\n",
       "      <td>&gt;50K</td>\n",
       "    </tr>\n",
       "    <tr>\n",
       "      <th>1</th>\n",
       "      <td>30</td>\n",
       "      <td>Private</td>\n",
       "      <td>149118</td>\n",
       "      <td>HS-grad</td>\n",
       "      <td>9.0</td>\n",
       "      <td>Divorced</td>\n",
       "      <td>Craft-repair</td>\n",
       "      <td>Not-in-family</td>\n",
       "      <td>White</td>\n",
       "      <td>Female</td>\n",
       "      <td>0</td>\n",
       "      <td>0</td>\n",
       "      <td>40</td>\n",
       "      <td>United-States</td>\n",
       "      <td>&lt;=50K</td>\n",
       "    </tr>\n",
       "    <tr>\n",
       "      <th>2</th>\n",
       "      <td>46</td>\n",
       "      <td>Private</td>\n",
       "      <td>109209</td>\n",
       "      <td>Some-college</td>\n",
       "      <td>NaN</td>\n",
       "      <td>Married-civ-spouse</td>\n",
       "      <td>Adm-clerical</td>\n",
       "      <td>Husband</td>\n",
       "      <td>White</td>\n",
       "      <td>Male</td>\n",
       "      <td>0</td>\n",
       "      <td>0</td>\n",
       "      <td>40</td>\n",
       "      <td>United-States</td>\n",
       "      <td>&gt;50K</td>\n",
       "    </tr>\n",
       "    <tr>\n",
       "      <th>3</th>\n",
       "      <td>32</td>\n",
       "      <td>Private</td>\n",
       "      <td>229566</td>\n",
       "      <td>Assoc-voc</td>\n",
       "      <td>11.0</td>\n",
       "      <td>Married-civ-spouse</td>\n",
       "      <td>Other-service</td>\n",
       "      <td>Husband</td>\n",
       "      <td>White</td>\n",
       "      <td>Male</td>\n",
       "      <td>0</td>\n",
       "      <td>0</td>\n",
       "      <td>60</td>\n",
       "      <td>United-States</td>\n",
       "      <td>&gt;50K</td>\n",
       "    </tr>\n",
       "    <tr>\n",
       "      <th>4</th>\n",
       "      <td>54</td>\n",
       "      <td>?</td>\n",
       "      <td>148657</td>\n",
       "      <td>Preschool</td>\n",
       "      <td>1.0</td>\n",
       "      <td>Married-civ-spouse</td>\n",
       "      <td>?</td>\n",
       "      <td>Wife</td>\n",
       "      <td>White</td>\n",
       "      <td>Female</td>\n",
       "      <td>0</td>\n",
       "      <td>0</td>\n",
       "      <td>40</td>\n",
       "      <td>Mexico</td>\n",
       "      <td>&lt;=50K</td>\n",
       "    </tr>\n",
       "    <tr>\n",
       "      <th>...</th>\n",
       "      <td>...</td>\n",
       "      <td>...</td>\n",
       "      <td>...</td>\n",
       "      <td>...</td>\n",
       "      <td>...</td>\n",
       "      <td>...</td>\n",
       "      <td>...</td>\n",
       "      <td>...</td>\n",
       "      <td>...</td>\n",
       "      <td>...</td>\n",
       "      <td>...</td>\n",
       "      <td>...</td>\n",
       "      <td>...</td>\n",
       "      <td>...</td>\n",
       "      <td>...</td>\n",
       "    </tr>\n",
       "    <tr>\n",
       "      <th>24995</th>\n",
       "      <td>40</td>\n",
       "      <td>Private</td>\n",
       "      <td>130834</td>\n",
       "      <td>Some-college</td>\n",
       "      <td>10.0</td>\n",
       "      <td>Never-married</td>\n",
       "      <td>Adm-clerical</td>\n",
       "      <td>Not-in-family</td>\n",
       "      <td>White</td>\n",
       "      <td>Female</td>\n",
       "      <td>0</td>\n",
       "      <td>0</td>\n",
       "      <td>40</td>\n",
       "      <td>United-States</td>\n",
       "      <td>&lt;=50K</td>\n",
       "    </tr>\n",
       "    <tr>\n",
       "      <th>24996</th>\n",
       "      <td>31</td>\n",
       "      <td>Local-gov</td>\n",
       "      <td>33124</td>\n",
       "      <td>Bachelors</td>\n",
       "      <td>13.0</td>\n",
       "      <td>Never-married</td>\n",
       "      <td>Prof-specialty</td>\n",
       "      <td>Not-in-family</td>\n",
       "      <td>White</td>\n",
       "      <td>Female</td>\n",
       "      <td>0</td>\n",
       "      <td>0</td>\n",
       "      <td>50</td>\n",
       "      <td>United-States</td>\n",
       "      <td>&lt;=50K</td>\n",
       "    </tr>\n",
       "    <tr>\n",
       "      <th>24997</th>\n",
       "      <td>38</td>\n",
       "      <td>Federal-gov</td>\n",
       "      <td>190895</td>\n",
       "      <td>Bachelors</td>\n",
       "      <td>13.0</td>\n",
       "      <td>Married-civ-spouse</td>\n",
       "      <td>Prof-specialty</td>\n",
       "      <td>Husband</td>\n",
       "      <td>White</td>\n",
       "      <td>Male</td>\n",
       "      <td>0</td>\n",
       "      <td>0</td>\n",
       "      <td>40</td>\n",
       "      <td>?</td>\n",
       "      <td>&gt;50K</td>\n",
       "    </tr>\n",
       "    <tr>\n",
       "      <th>24998</th>\n",
       "      <td>23</td>\n",
       "      <td>Private</td>\n",
       "      <td>420973</td>\n",
       "      <td>Bachelors</td>\n",
       "      <td>13.0</td>\n",
       "      <td>Never-married</td>\n",
       "      <td>Prof-specialty</td>\n",
       "      <td>Not-in-family</td>\n",
       "      <td>White</td>\n",
       "      <td>Female</td>\n",
       "      <td>0</td>\n",
       "      <td>0</td>\n",
       "      <td>40</td>\n",
       "      <td>United-States</td>\n",
       "      <td>&lt;=50K</td>\n",
       "    </tr>\n",
       "    <tr>\n",
       "      <th>24999</th>\n",
       "      <td>60</td>\n",
       "      <td>Private</td>\n",
       "      <td>88055</td>\n",
       "      <td>10th</td>\n",
       "      <td>6.0</td>\n",
       "      <td>Married-civ-spouse</td>\n",
       "      <td>Transport-moving</td>\n",
       "      <td>Husband</td>\n",
       "      <td>White</td>\n",
       "      <td>Male</td>\n",
       "      <td>0</td>\n",
       "      <td>0</td>\n",
       "      <td>40</td>\n",
       "      <td>United-States</td>\n",
       "      <td>&lt;=50K</td>\n",
       "    </tr>\n",
       "  </tbody>\n",
       "</table>\n",
       "<p>25000 rows × 15 columns</p>\n",
       "</div>"
      ],
      "text/plain": [
       "       age         workclass  fnlwgt     education  education.num  \\\n",
       "0       40  Self-emp-not-inc  223881   Prof-school           15.0   \n",
       "1       30           Private  149118       HS-grad            9.0   \n",
       "2       46           Private  109209  Some-college            NaN   \n",
       "3       32           Private  229566     Assoc-voc           11.0   \n",
       "4       54                 ?  148657     Preschool            1.0   \n",
       "...    ...               ...     ...           ...            ...   \n",
       "24995   40           Private  130834  Some-college           10.0   \n",
       "24996   31         Local-gov   33124     Bachelors           13.0   \n",
       "24997   38       Federal-gov  190895     Bachelors           13.0   \n",
       "24998   23           Private  420973     Bachelors           13.0   \n",
       "24999   60           Private   88055          10th            6.0   \n",
       "\n",
       "           marital.status        occupation   relationship   race     sex  \\\n",
       "0      Married-civ-spouse    Prof-specialty        Husband  White    Male   \n",
       "1                Divorced      Craft-repair  Not-in-family  White  Female   \n",
       "2      Married-civ-spouse      Adm-clerical        Husband  White    Male   \n",
       "3      Married-civ-spouse     Other-service        Husband  White    Male   \n",
       "4      Married-civ-spouse                 ?           Wife  White  Female   \n",
       "...                   ...               ...            ...    ...     ...   \n",
       "24995       Never-married      Adm-clerical  Not-in-family  White  Female   \n",
       "24996       Never-married    Prof-specialty  Not-in-family  White  Female   \n",
       "24997  Married-civ-spouse    Prof-specialty        Husband  White    Male   \n",
       "24998       Never-married    Prof-specialty  Not-in-family  White  Female   \n",
       "24999  Married-civ-spouse  Transport-moving        Husband  White    Male   \n",
       "\n",
       "       capital.gain  capital.loss  hours.per.week native.country income  \n",
       "0             99999             0              70  United-States   >50K  \n",
       "1                 0             0              40  United-States  <=50K  \n",
       "2                 0             0              40  United-States   >50K  \n",
       "3                 0             0              60  United-States   >50K  \n",
       "4                 0             0              40         Mexico  <=50K  \n",
       "...             ...           ...             ...            ...    ...  \n",
       "24995             0             0              40  United-States  <=50K  \n",
       "24996             0             0              50  United-States  <=50K  \n",
       "24997             0             0              40              ?   >50K  \n",
       "24998             0             0              40  United-States  <=50K  \n",
       "24999             0             0              40  United-States  <=50K  \n",
       "\n",
       "[25000 rows x 15 columns]"
      ]
     },
     "execution_count": 5,
     "metadata": {},
     "output_type": "execute_result"
    }
   ],
   "source": [
    "df"
   ]
  },
  {
   "cell_type": "markdown",
   "id": "03fc996e-ce2e-4037-af76-d00673b81efc",
   "metadata": {},
   "source": [
    "## Data Cleaning\n",
    "### data null terdapat pada kolom education_num sebanyak 5"
   ]
  },
  {
   "cell_type": "code",
   "execution_count": 6,
   "id": "d752fcbc-a16a-4aee-ba3e-76e06f195603",
   "metadata": {},
   "outputs": [
    {
     "data": {
      "text/plain": [
       "age               0\n",
       "workclass         0\n",
       "fnlwgt            0\n",
       "education         0\n",
       "education.num     5\n",
       "marital.status    0\n",
       "occupation        0\n",
       "relationship      0\n",
       "race              0\n",
       "sex               0\n",
       "capital.gain      0\n",
       "capital.loss      0\n",
       "hours.per.week    0\n",
       "native.country    0\n",
       "income            0\n",
       "dtype: int64"
      ]
     },
     "execution_count": 6,
     "metadata": {},
     "output_type": "execute_result"
    }
   ],
   "source": [
    "df.isna().sum()"
   ]
  },
  {
   "cell_type": "code",
   "execution_count": 7,
   "id": "720549a5-4546-48a9-86b5-2692f28de39b",
   "metadata": {},
   "outputs": [],
   "source": [
    "si_mean = SimpleImputer(strategy='mean')\n",
    "si_mean.fit(df[['education.num']])\n",
    "df[['education.num']] = si_mean.transform(df[['education.num']])"
   ]
  },
  {
   "cell_type": "markdown",
   "id": "48fb15f9-f78e-4210-b484-9b3ba909d901",
   "metadata": {},
   "source": [
    "### mengganti nilai null yang ada pada kolom education.sum"
   ]
  },
  {
   "cell_type": "code",
   "execution_count": 8,
   "id": "e58d1818-1081-4436-9df8-b3c2ba5e0e2a",
   "metadata": {},
   "outputs": [
    {
     "data": {
      "text/plain": [
       "age               0\n",
       "workclass         0\n",
       "fnlwgt            0\n",
       "education         0\n",
       "education.num     0\n",
       "marital.status    0\n",
       "occupation        0\n",
       "relationship      0\n",
       "race              0\n",
       "sex               0\n",
       "capital.gain      0\n",
       "capital.loss      0\n",
       "hours.per.week    0\n",
       "native.country    0\n",
       "income            0\n",
       "dtype: int64"
      ]
     },
     "execution_count": 8,
     "metadata": {},
     "output_type": "execute_result"
    }
   ],
   "source": [
    "df.isna().sum()"
   ]
  },
  {
   "cell_type": "markdown",
   "id": "633d2c5d-3e90-4a91-9796-cde6f75911a2",
   "metadata": {},
   "source": [
    "###### Menghapus data duplikat"
   ]
  },
  {
   "cell_type": "code",
   "execution_count": 9,
   "id": "36534a9e-0536-4083-8ecd-cdd82b977893",
   "metadata": {},
   "outputs": [],
   "source": [
    "df.drop_duplicates(inplace=True)"
   ]
  },
  {
   "cell_type": "markdown",
   "id": "131e8680-d77a-412f-85b4-bde982fcaa9f",
   "metadata": {},
   "source": [
    "##### mengecek kembali apakah masih ada data duplikasi atau tidak"
   ]
  },
  {
   "cell_type": "code",
   "execution_count": 10,
   "id": "f2637168-79eb-4249-89c6-1a300cb513c9",
   "metadata": {},
   "outputs": [
    {
     "data": {
      "text/plain": [
       "0"
      ]
     },
     "execution_count": 10,
     "metadata": {},
     "output_type": "execute_result"
    }
   ],
   "source": [
    "df.duplicated().sum()"
   ]
  },
  {
   "cell_type": "markdown",
   "id": "f7c2e0b5-65f6-4395-85b4-1191322cc6ae",
   "metadata": {},
   "source": [
    "## Menganti tipe data"
   ]
  },
  {
   "cell_type": "code",
   "execution_count": 11,
   "id": "e17ef1db-c2c7-444a-8647-b236288ccdaa",
   "metadata": {},
   "outputs": [
    {
     "data": {
      "text/plain": [
       "age                 int64\n",
       "workclass          object\n",
       "fnlwgt              int64\n",
       "education          object\n",
       "education.num     float64\n",
       "marital.status     object\n",
       "occupation         object\n",
       "relationship       object\n",
       "race               object\n",
       "sex                object\n",
       "capital.gain        int64\n",
       "capital.loss        int64\n",
       "hours.per.week      int64\n",
       "native.country     object\n",
       "income             object\n",
       "dtype: object"
      ]
     },
     "execution_count": 11,
     "metadata": {},
     "output_type": "execute_result"
    }
   ],
   "source": [
    "df.dtypes"
   ]
  },
  {
   "cell_type": "markdown",
   "id": "ad7e37d3-db3f-4fc0-aaf1-1182fa62e6ad",
   "metadata": {},
   "source": [
    "#### saya Mengubah tide data kolom \"capital.loss\" dari int64 ke float"
   ]
  },
  {
   "cell_type": "code",
   "execution_count": 12,
   "id": "0e606586-6f54-4767-809c-a9d4a016efdb",
   "metadata": {},
   "outputs": [],
   "source": [
    "df['capital.loss'] = df['capital.loss'].astype('float')"
   ]
  },
  {
   "cell_type": "markdown",
   "id": "8a55b212-59b8-4fae-8907-1ab53ff07ee6",
   "metadata": {},
   "source": [
    "#### data setelah diubah tipenya"
   ]
  },
  {
   "cell_type": "code",
   "execution_count": 13,
   "id": "297f87ac-2cd8-4ff1-b601-ca824271ce92",
   "metadata": {},
   "outputs": [
    {
     "data": {
      "text/plain": [
       "age                 int64\n",
       "workclass          object\n",
       "fnlwgt              int64\n",
       "education          object\n",
       "education.num     float64\n",
       "marital.status     object\n",
       "occupation         object\n",
       "relationship       object\n",
       "race               object\n",
       "sex                object\n",
       "capital.gain        int64\n",
       "capital.loss      float64\n",
       "hours.per.week      int64\n",
       "native.country     object\n",
       "income             object\n",
       "dtype: object"
      ]
     },
     "execution_count": 13,
     "metadata": {},
     "output_type": "execute_result"
    }
   ],
   "source": [
    "df.dtypes"
   ]
  },
  {
   "cell_type": "markdown",
   "id": "fe58046f-77b0-4b68-9769-f6273c8881c2",
   "metadata": {},
   "source": [
    "## data Transformation"
   ]
  },
  {
   "cell_type": "code",
   "execution_count": 14,
   "id": "1d29189a-a66c-4511-a75c-2de5296b4785",
   "metadata": {},
   "outputs": [
    {
     "data": {
      "text/plain": [
       "age                 int64\n",
       "workclass          object\n",
       "fnlwgt              int64\n",
       "education          object\n",
       "education.num     float64\n",
       "marital.status     object\n",
       "occupation         object\n",
       "relationship       object\n",
       "race               object\n",
       "sex                object\n",
       "capital.gain        int64\n",
       "capital.loss      float64\n",
       "hours.per.week      int64\n",
       "native.country     object\n",
       "income             object\n",
       "dtype: object"
      ]
     },
     "execution_count": 14,
     "metadata": {},
     "output_type": "execute_result"
    }
   ],
   "source": [
    "df.dtypes"
   ]
  },
  {
   "cell_type": "markdown",
   "id": "62c1eb41-9273-4564-bd46-7bde776e2fb8",
   "metadata": {},
   "source": [
    "#### saya menggunakan semua data numerik yang ada di data"
   ]
  },
  {
   "cell_type": "code",
   "execution_count": 15,
   "id": "55cc8f9c-e871-4d3c-b49f-51c22aff923c",
   "metadata": {},
   "outputs": [],
   "source": [
    "from sklearn.preprocessing import StandardScaler"
   ]
  },
  {
   "cell_type": "markdown",
   "id": "df32865a-e3ee-4f86-827b-54c7d80b3e69",
   "metadata": {},
   "source": [
    "### standarisai"
   ]
  },
  {
   "cell_type": "code",
   "execution_count": 16,
   "id": "94cfe63d-c385-4e8a-b37f-d0cece39a240",
   "metadata": {},
   "outputs": [],
   "source": [
    "ss = StandardScaler()\n",
    "df2 = df.copy()\n",
    "df2[['age','fnlwgt' ,'education.num', 'capital.gain', 'capital.loss', 'hours.per.week' ]] = ss.fit_transform(df2[['age','fnlwgt' ,'education.num', 'capital.gain', 'capital.loss', 'hours.per.week' ]])"
   ]
  },
  {
   "cell_type": "code",
   "execution_count": 17,
   "id": "1a6eb6e7-9f7e-4cab-bb7a-9d80d4d7e4c8",
   "metadata": {},
   "outputs": [
    {
     "data": {
      "text/html": [
       "<div>\n",
       "<style scoped>\n",
       "    .dataframe tbody tr th:only-of-type {\n",
       "        vertical-align: middle;\n",
       "    }\n",
       "\n",
       "    .dataframe tbody tr th {\n",
       "        vertical-align: top;\n",
       "    }\n",
       "\n",
       "    .dataframe thead th {\n",
       "        text-align: right;\n",
       "    }\n",
       "</style>\n",
       "<table border=\"1\" class=\"dataframe\">\n",
       "  <thead>\n",
       "    <tr style=\"text-align: right;\">\n",
       "      <th></th>\n",
       "      <th>age</th>\n",
       "      <th>fnlwgt</th>\n",
       "      <th>education.num</th>\n",
       "      <th>capital.gain</th>\n",
       "      <th>capital.loss</th>\n",
       "      <th>hours.per.week</th>\n",
       "    </tr>\n",
       "  </thead>\n",
       "  <tbody>\n",
       "    <tr>\n",
       "      <th>0</th>\n",
       "      <td>0.101430</td>\n",
       "      <td>0.324278</td>\n",
       "      <td>1.911115</td>\n",
       "      <td>13.506484</td>\n",
       "      <td>-0.217247</td>\n",
       "      <td>2.401095</td>\n",
       "    </tr>\n",
       "    <tr>\n",
       "      <th>1</th>\n",
       "      <td>-0.629444</td>\n",
       "      <td>-0.384543</td>\n",
       "      <td>-0.418269</td>\n",
       "      <td>-0.147970</td>\n",
       "      <td>-0.217247</td>\n",
       "      <td>-0.036170</td>\n",
       "    </tr>\n",
       "    <tr>\n",
       "      <th>2</th>\n",
       "      <td>0.539954</td>\n",
       "      <td>-0.762917</td>\n",
       "      <td>-0.000372</td>\n",
       "      <td>-0.147970</td>\n",
       "      <td>-0.217247</td>\n",
       "      <td>-0.036170</td>\n",
       "    </tr>\n",
       "    <tr>\n",
       "      <th>3</th>\n",
       "      <td>-0.483269</td>\n",
       "      <td>0.378177</td>\n",
       "      <td>0.358192</td>\n",
       "      <td>-0.147970</td>\n",
       "      <td>-0.217247</td>\n",
       "      <td>1.588673</td>\n",
       "    </tr>\n",
       "    <tr>\n",
       "      <th>4</th>\n",
       "      <td>1.124653</td>\n",
       "      <td>-0.388914</td>\n",
       "      <td>-3.524115</td>\n",
       "      <td>-0.147970</td>\n",
       "      <td>-0.217247</td>\n",
       "      <td>-0.036170</td>\n",
       "    </tr>\n",
       "    <tr>\n",
       "      <th>...</th>\n",
       "      <td>...</td>\n",
       "      <td>...</td>\n",
       "      <td>...</td>\n",
       "      <td>...</td>\n",
       "      <td>...</td>\n",
       "      <td>...</td>\n",
       "    </tr>\n",
       "    <tr>\n",
       "      <th>24995</th>\n",
       "      <td>0.101430</td>\n",
       "      <td>-0.557892</td>\n",
       "      <td>-0.030038</td>\n",
       "      <td>-0.147970</td>\n",
       "      <td>-0.217247</td>\n",
       "      <td>-0.036170</td>\n",
       "    </tr>\n",
       "    <tr>\n",
       "      <th>24996</th>\n",
       "      <td>-0.556357</td>\n",
       "      <td>-1.484272</td>\n",
       "      <td>1.134654</td>\n",
       "      <td>-0.147970</td>\n",
       "      <td>-0.217247</td>\n",
       "      <td>0.776252</td>\n",
       "    </tr>\n",
       "    <tr>\n",
       "      <th>24997</th>\n",
       "      <td>-0.044745</td>\n",
       "      <td>0.011541</td>\n",
       "      <td>1.134654</td>\n",
       "      <td>-0.147970</td>\n",
       "      <td>-0.217247</td>\n",
       "      <td>-0.036170</td>\n",
       "    </tr>\n",
       "    <tr>\n",
       "      <th>24998</th>\n",
       "      <td>-1.141055</td>\n",
       "      <td>2.192890</td>\n",
       "      <td>1.134654</td>\n",
       "      <td>-0.147970</td>\n",
       "      <td>-0.217247</td>\n",
       "      <td>-0.036170</td>\n",
       "    </tr>\n",
       "    <tr>\n",
       "      <th>24999</th>\n",
       "      <td>1.563177</td>\n",
       "      <td>-0.963476</td>\n",
       "      <td>-1.582961</td>\n",
       "      <td>-0.147970</td>\n",
       "      <td>-0.217247</td>\n",
       "      <td>-0.036170</td>\n",
       "    </tr>\n",
       "  </tbody>\n",
       "</table>\n",
       "<p>24988 rows × 6 columns</p>\n",
       "</div>"
      ],
      "text/plain": [
       "            age    fnlwgt  education.num  capital.gain  capital.loss  \\\n",
       "0      0.101430  0.324278       1.911115     13.506484     -0.217247   \n",
       "1     -0.629444 -0.384543      -0.418269     -0.147970     -0.217247   \n",
       "2      0.539954 -0.762917      -0.000372     -0.147970     -0.217247   \n",
       "3     -0.483269  0.378177       0.358192     -0.147970     -0.217247   \n",
       "4      1.124653 -0.388914      -3.524115     -0.147970     -0.217247   \n",
       "...         ...       ...            ...           ...           ...   \n",
       "24995  0.101430 -0.557892      -0.030038     -0.147970     -0.217247   \n",
       "24996 -0.556357 -1.484272       1.134654     -0.147970     -0.217247   \n",
       "24997 -0.044745  0.011541       1.134654     -0.147970     -0.217247   \n",
       "24998 -1.141055  2.192890       1.134654     -0.147970     -0.217247   \n",
       "24999  1.563177 -0.963476      -1.582961     -0.147970     -0.217247   \n",
       "\n",
       "       hours.per.week  \n",
       "0            2.401095  \n",
       "1           -0.036170  \n",
       "2           -0.036170  \n",
       "3            1.588673  \n",
       "4           -0.036170  \n",
       "...               ...  \n",
       "24995       -0.036170  \n",
       "24996        0.776252  \n",
       "24997       -0.036170  \n",
       "24998       -0.036170  \n",
       "24999       -0.036170  \n",
       "\n",
       "[24988 rows x 6 columns]"
      ]
     },
     "execution_count": 17,
     "metadata": {},
     "output_type": "execute_result"
    }
   ],
   "source": [
    "df2[['age','fnlwgt' ,'education.num', 'capital.gain', 'capital.loss', 'hours.per.week' ]]"
   ]
  },
  {
   "cell_type": "markdown",
   "id": "bd5eaaa2-d674-4e5d-ae8e-b1dd42cbc87f",
   "metadata": {},
   "source": [
    "### Normanisasi"
   ]
  },
  {
   "cell_type": "code",
   "execution_count": 18,
   "id": "9c4b434d-bce8-40bb-a2f3-17178957904e",
   "metadata": {},
   "outputs": [],
   "source": [
    "from sklearn.preprocessing import MinMaxScaler"
   ]
  },
  {
   "cell_type": "code",
   "execution_count": 19,
   "id": "af628f96-b388-47c4-a575-4651e223a126",
   "metadata": {},
   "outputs": [],
   "source": [
    "mm = MinMaxScaler()\n",
    "df3 = df.copy()\n",
    "df3[['fnlwgt']] = mm.fit_transform(df3[['fnlwgt']])"
   ]
  },
  {
   "cell_type": "code",
   "execution_count": 20,
   "id": "602c1287-0632-4a5a-9b3f-8c240b1285b9",
   "metadata": {},
   "outputs": [
    {
     "data": {
      "text/plain": [
       "count    24988.000000\n",
       "mean         0.120477\n",
       "std          0.071635\n",
       "min          0.000000\n",
       "25%          0.071794\n",
       "50%          0.112694\n",
       "75%          0.152653\n",
       "max          1.000000\n",
       "Name: fnlwgt, dtype: float64"
      ]
     },
     "execution_count": 20,
     "metadata": {},
     "output_type": "execute_result"
    }
   ],
   "source": [
    "df3['fnlwgt'].describe()"
   ]
  },
  {
   "cell_type": "markdown",
   "id": "05021a40-3be1-49a8-80d4-36a9daa78eb2",
   "metadata": {},
   "source": [
    "## One Hot Encoding"
   ]
  },
  {
   "cell_type": "code",
   "execution_count": 21,
   "id": "07fe88ab-e0e1-4ea9-a254-78b4f0fc032a",
   "metadata": {},
   "outputs": [],
   "source": [
    "from sklearn.preprocessing import OneHotEncoder"
   ]
  },
  {
   "cell_type": "markdown",
   "id": "a969e342-ef53-4fbf-b97e-6fe82a09a7b6",
   "metadata": {},
   "source": [
    "#### menampilkan isi dari \"sex\""
   ]
  },
  {
   "cell_type": "code",
   "execution_count": 22,
   "id": "e6f4a934-d604-4e57-b5ab-d4b7927aa650",
   "metadata": {},
   "outputs": [
    {
     "data": {
      "text/plain": [
       "sex\n",
       "Male      16710\n",
       "Female     8278\n",
       "Name: count, dtype: int64"
      ]
     },
     "execution_count": 22,
     "metadata": {},
     "output_type": "execute_result"
    }
   ],
   "source": [
    "df['sex'].value_counts()"
   ]
  },
  {
   "cell_type": "code",
   "execution_count": 23,
   "id": "aeac43d7-1ed7-449b-ae76-987ecc15eab6",
   "metadata": {},
   "outputs": [],
   "source": [
    "ohe =  OneHotEncoder (sparse_output=False)\n",
    "ohe_income = ohe.fit_transform(df[['sex']])"
   ]
  },
  {
   "cell_type": "code",
   "execution_count": 24,
   "id": "dda6d256-b875-421e-8e90-7fd6bf4c671f",
   "metadata": {},
   "outputs": [
    {
     "data": {
      "text/html": [
       "<div>\n",
       "<style scoped>\n",
       "    .dataframe tbody tr th:only-of-type {\n",
       "        vertical-align: middle;\n",
       "    }\n",
       "\n",
       "    .dataframe tbody tr th {\n",
       "        vertical-align: top;\n",
       "    }\n",
       "\n",
       "    .dataframe thead th {\n",
       "        text-align: right;\n",
       "    }\n",
       "</style>\n",
       "<table border=\"1\" class=\"dataframe\">\n",
       "  <thead>\n",
       "    <tr style=\"text-align: right;\">\n",
       "      <th></th>\n",
       "      <th>female</th>\n",
       "      <th>male</th>\n",
       "    </tr>\n",
       "  </thead>\n",
       "  <tbody>\n",
       "    <tr>\n",
       "      <th>0</th>\n",
       "      <td>0.0</td>\n",
       "      <td>1.0</td>\n",
       "    </tr>\n",
       "    <tr>\n",
       "      <th>1</th>\n",
       "      <td>1.0</td>\n",
       "      <td>0.0</td>\n",
       "    </tr>\n",
       "    <tr>\n",
       "      <th>2</th>\n",
       "      <td>0.0</td>\n",
       "      <td>1.0</td>\n",
       "    </tr>\n",
       "    <tr>\n",
       "      <th>3</th>\n",
       "      <td>0.0</td>\n",
       "      <td>1.0</td>\n",
       "    </tr>\n",
       "    <tr>\n",
       "      <th>4</th>\n",
       "      <td>1.0</td>\n",
       "      <td>0.0</td>\n",
       "    </tr>\n",
       "    <tr>\n",
       "      <th>...</th>\n",
       "      <td>...</td>\n",
       "      <td>...</td>\n",
       "    </tr>\n",
       "    <tr>\n",
       "      <th>24983</th>\n",
       "      <td>1.0</td>\n",
       "      <td>0.0</td>\n",
       "    </tr>\n",
       "    <tr>\n",
       "      <th>24984</th>\n",
       "      <td>1.0</td>\n",
       "      <td>0.0</td>\n",
       "    </tr>\n",
       "    <tr>\n",
       "      <th>24985</th>\n",
       "      <td>0.0</td>\n",
       "      <td>1.0</td>\n",
       "    </tr>\n",
       "    <tr>\n",
       "      <th>24986</th>\n",
       "      <td>1.0</td>\n",
       "      <td>0.0</td>\n",
       "    </tr>\n",
       "    <tr>\n",
       "      <th>24987</th>\n",
       "      <td>0.0</td>\n",
       "      <td>1.0</td>\n",
       "    </tr>\n",
       "  </tbody>\n",
       "</table>\n",
       "<p>24988 rows × 2 columns</p>\n",
       "</div>"
      ],
      "text/plain": [
       "       female  male\n",
       "0         0.0   1.0\n",
       "1         1.0   0.0\n",
       "2         0.0   1.0\n",
       "3         0.0   1.0\n",
       "4         1.0   0.0\n",
       "...       ...   ...\n",
       "24983     1.0   0.0\n",
       "24984     1.0   0.0\n",
       "24985     0.0   1.0\n",
       "24986     1.0   0.0\n",
       "24987     0.0   1.0\n",
       "\n",
       "[24988 rows x 2 columns]"
      ]
     },
     "execution_count": 24,
     "metadata": {},
     "output_type": "execute_result"
    }
   ],
   "source": [
    "encoded = pd.DataFrame(ohe_income,\n",
    "                       columns=['female','male'])\n",
    "encoded"
   ]
  },
  {
   "cell_type": "code",
   "execution_count": 25,
   "id": "176f4289-b2d8-4975-bbb0-547ecce26388",
   "metadata": {},
   "outputs": [
    {
     "data": {
      "text/html": [
       "<div>\n",
       "<style scoped>\n",
       "    .dataframe tbody tr th:only-of-type {\n",
       "        vertical-align: middle;\n",
       "    }\n",
       "\n",
       "    .dataframe tbody tr th {\n",
       "        vertical-align: top;\n",
       "    }\n",
       "\n",
       "    .dataframe thead th {\n",
       "        text-align: right;\n",
       "    }\n",
       "</style>\n",
       "<table border=\"1\" class=\"dataframe\">\n",
       "  <thead>\n",
       "    <tr style=\"text-align: right;\">\n",
       "      <th></th>\n",
       "      <th>age</th>\n",
       "      <th>workclass</th>\n",
       "      <th>fnlwgt</th>\n",
       "      <th>education</th>\n",
       "      <th>education.num</th>\n",
       "      <th>marital.status</th>\n",
       "      <th>occupation</th>\n",
       "      <th>relationship</th>\n",
       "      <th>race</th>\n",
       "      <th>sex</th>\n",
       "      <th>capital.gain</th>\n",
       "      <th>capital.loss</th>\n",
       "      <th>hours.per.week</th>\n",
       "      <th>native.country</th>\n",
       "      <th>income</th>\n",
       "      <th>female</th>\n",
       "      <th>male</th>\n",
       "    </tr>\n",
       "  </thead>\n",
       "  <tbody>\n",
       "    <tr>\n",
       "      <th>0</th>\n",
       "      <td>40.0</td>\n",
       "      <td>Self-emp-not-inc</td>\n",
       "      <td>223881.0</td>\n",
       "      <td>Prof-school</td>\n",
       "      <td>15.000000</td>\n",
       "      <td>Married-civ-spouse</td>\n",
       "      <td>Prof-specialty</td>\n",
       "      <td>Husband</td>\n",
       "      <td>White</td>\n",
       "      <td>Male</td>\n",
       "      <td>99999.0</td>\n",
       "      <td>0.0</td>\n",
       "      <td>70.0</td>\n",
       "      <td>United-States</td>\n",
       "      <td>&gt;50K</td>\n",
       "      <td>0.0</td>\n",
       "      <td>1.0</td>\n",
       "    </tr>\n",
       "    <tr>\n",
       "      <th>1</th>\n",
       "      <td>30.0</td>\n",
       "      <td>Private</td>\n",
       "      <td>149118.0</td>\n",
       "      <td>HS-grad</td>\n",
       "      <td>9.000000</td>\n",
       "      <td>Divorced</td>\n",
       "      <td>Craft-repair</td>\n",
       "      <td>Not-in-family</td>\n",
       "      <td>White</td>\n",
       "      <td>Female</td>\n",
       "      <td>0.0</td>\n",
       "      <td>0.0</td>\n",
       "      <td>40.0</td>\n",
       "      <td>United-States</td>\n",
       "      <td>&lt;=50K</td>\n",
       "      <td>1.0</td>\n",
       "      <td>0.0</td>\n",
       "    </tr>\n",
       "    <tr>\n",
       "      <th>2</th>\n",
       "      <td>46.0</td>\n",
       "      <td>Private</td>\n",
       "      <td>109209.0</td>\n",
       "      <td>Some-college</td>\n",
       "      <td>10.076415</td>\n",
       "      <td>Married-civ-spouse</td>\n",
       "      <td>Adm-clerical</td>\n",
       "      <td>Husband</td>\n",
       "      <td>White</td>\n",
       "      <td>Male</td>\n",
       "      <td>0.0</td>\n",
       "      <td>0.0</td>\n",
       "      <td>40.0</td>\n",
       "      <td>United-States</td>\n",
       "      <td>&gt;50K</td>\n",
       "      <td>0.0</td>\n",
       "      <td>1.0</td>\n",
       "    </tr>\n",
       "    <tr>\n",
       "      <th>3</th>\n",
       "      <td>32.0</td>\n",
       "      <td>Private</td>\n",
       "      <td>229566.0</td>\n",
       "      <td>Assoc-voc</td>\n",
       "      <td>11.000000</td>\n",
       "      <td>Married-civ-spouse</td>\n",
       "      <td>Other-service</td>\n",
       "      <td>Husband</td>\n",
       "      <td>White</td>\n",
       "      <td>Male</td>\n",
       "      <td>0.0</td>\n",
       "      <td>0.0</td>\n",
       "      <td>60.0</td>\n",
       "      <td>United-States</td>\n",
       "      <td>&gt;50K</td>\n",
       "      <td>0.0</td>\n",
       "      <td>1.0</td>\n",
       "    </tr>\n",
       "    <tr>\n",
       "      <th>4</th>\n",
       "      <td>54.0</td>\n",
       "      <td>?</td>\n",
       "      <td>148657.0</td>\n",
       "      <td>Preschool</td>\n",
       "      <td>1.000000</td>\n",
       "      <td>Married-civ-spouse</td>\n",
       "      <td>?</td>\n",
       "      <td>Wife</td>\n",
       "      <td>White</td>\n",
       "      <td>Female</td>\n",
       "      <td>0.0</td>\n",
       "      <td>0.0</td>\n",
       "      <td>40.0</td>\n",
       "      <td>Mexico</td>\n",
       "      <td>&lt;=50K</td>\n",
       "      <td>1.0</td>\n",
       "      <td>0.0</td>\n",
       "    </tr>\n",
       "  </tbody>\n",
       "</table>\n",
       "</div>"
      ],
      "text/plain": [
       "    age         workclass    fnlwgt     education  education.num  \\\n",
       "0  40.0  Self-emp-not-inc  223881.0   Prof-school      15.000000   \n",
       "1  30.0           Private  149118.0       HS-grad       9.000000   \n",
       "2  46.0           Private  109209.0  Some-college      10.076415   \n",
       "3  32.0           Private  229566.0     Assoc-voc      11.000000   \n",
       "4  54.0                 ?  148657.0     Preschool       1.000000   \n",
       "\n",
       "       marital.status      occupation   relationship   race     sex  \\\n",
       "0  Married-civ-spouse  Prof-specialty        Husband  White    Male   \n",
       "1            Divorced    Craft-repair  Not-in-family  White  Female   \n",
       "2  Married-civ-spouse    Adm-clerical        Husband  White    Male   \n",
       "3  Married-civ-spouse   Other-service        Husband  White    Male   \n",
       "4  Married-civ-spouse               ?           Wife  White  Female   \n",
       "\n",
       "   capital.gain  capital.loss  hours.per.week native.country income  female  \\\n",
       "0       99999.0           0.0            70.0  United-States   >50K     0.0   \n",
       "1           0.0           0.0            40.0  United-States  <=50K     1.0   \n",
       "2           0.0           0.0            40.0  United-States   >50K     0.0   \n",
       "3           0.0           0.0            60.0  United-States   >50K     0.0   \n",
       "4           0.0           0.0            40.0         Mexico  <=50K     1.0   \n",
       "\n",
       "   male  \n",
       "0   1.0  \n",
       "1   0.0  \n",
       "2   1.0  \n",
       "3   1.0  \n",
       "4   0.0  "
      ]
     },
     "execution_count": 25,
     "metadata": {},
     "output_type": "execute_result"
    }
   ],
   "source": [
    "df = pd.concat([df, encoded], axis=1)\n",
    "df.head()"
   ]
  },
  {
   "cell_type": "code",
   "execution_count": null,
   "id": "d259eee3-555a-406f-ae10-8e9954926ec4",
   "metadata": {},
   "outputs": [],
   "source": []
  },
  {
   "cell_type": "markdown",
   "id": "5be5bd6a-786a-4533-b3f7-9285af0633c4",
   "metadata": {},
   "source": [
    "## Data Split"
   ]
  },
  {
   "cell_type": "markdown",
   "id": "409b8b7e-6998-4512-8a75-09092c4511b9",
   "metadata": {},
   "source": [
    "#### mwmbagi dataset menjadi 2 bagian traning set dan testing set dengan masing masing proprsi 70:30."
   ]
  },
  {
   "cell_type": "code",
   "execution_count": 26,
   "id": "d51bced5-0743-4051-b776-117e5b50e0b1",
   "metadata": {},
   "outputs": [],
   "source": [
    "from sklearn.model_selection import train_test_split"
   ]
  },
  {
   "cell_type": "markdown",
   "id": "3262d183-b7e4-4c0c-a42b-99d84e7df768",
   "metadata": {},
   "source": [
    "#### variabel x adalah stribut selain income, variabel y berisi target yaitu atribut income"
   ]
  },
  {
   "cell_type": "code",
   "execution_count": 27,
   "id": "2243e563-3cd0-4851-ac4e-ca1817ccc1c9",
   "metadata": {},
   "outputs": [],
   "source": [
    "x = df.drop(columns='income')\n",
    "y = df['income']"
   ]
  },
  {
   "cell_type": "markdown",
   "id": "0af90fa7-cfaf-4f0b-8933-92a134d2bdb3",
   "metadata": {},
   "source": [
    "#### membuat kelas train_test untuk membagi datanya dengan testing 0,3."
   ]
  },
  {
   "cell_type": "code",
   "execution_count": 30,
   "id": "e70c44c7-3c83-47e4-9640-a71e844455cb",
   "metadata": {},
   "outputs": [],
   "source": [
    "x_train, x_test, y_train, y_test = train_test_split(x, y, test_size=0.3, random_state=12)"
   ]
  },
  {
   "cell_type": "markdown",
   "id": "3ef01458-c8e9-4bb5-ae43-01284d3bd812",
   "metadata": {},
   "source": [
    "#### menampilkan hasil dari split data"
   ]
  },
  {
   "cell_type": "code",
   "execution_count": 33,
   "id": "423995b3-d008-4dc1-a765-fe31665833ca",
   "metadata": {},
   "outputs": [
    {
     "name": "stdout",
     "output_type": "stream",
     "text": [
      "(17500, 16)\n",
      "(7500, 16)\n",
      "(17500,)\n",
      "(7500,)\n"
     ]
    }
   ],
   "source": [
    "print(x_train.shape)\n",
    "print(x_test.shape)\n",
    "print(y_train.shape)\n",
    "print(y_test.shape)\n"
   ]
  }
 ],
 "metadata": {
  "kernelspec": {
   "display_name": "Python 3 (ipykernel)",
   "language": "python",
   "name": "python3"
  },
  "language_info": {
   "codemirror_mode": {
    "name": "ipython",
    "version": 3
   },
   "file_extension": ".py",
   "mimetype": "text/x-python",
   "name": "python",
   "nbconvert_exporter": "python",
   "pygments_lexer": "ipython3",
   "version": "3.10.7"
  }
 },
 "nbformat": 4,
 "nbformat_minor": 5
}
